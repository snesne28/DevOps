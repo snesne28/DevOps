{
  "nbformat": 4,
  "nbformat_minor": 0,
  "metadata": {
    "colab": {
      "provenance": [],
      "gpuType": "T4",
      "include_colab_link": true
    },
    "kernelspec": {
      "name": "python3",
      "display_name": "Python 3"
    },
    "language_info": {
      "name": "python"
    },
    "accelerator": "GPU"
  },
  "cells": [
    {
      "cell_type": "markdown",
      "metadata": {
        "id": "view-in-github",
        "colab_type": "text"
      },
      "source": [
        "<a href=\"https://colab.research.google.com/github/snesne28/DevOps/blob/master/resnet50.ipynb\" target=\"_parent\"><img src=\"https://colab.research.google.com/assets/colab-badge.svg\" alt=\"Open In Colab\"/></a>"
      ]
    },
    {
      "cell_type": "code",
      "execution_count": null,
      "metadata": {
        "colab": {
          "base_uri": "https://localhost:8080/"
        },
        "id": "NW92CdH5BDeD",
        "outputId": "f4bfaae8-0375-485c-c858-ef3c6536ffa6"
      },
      "outputs": [
        {
          "output_type": "stream",
          "name": "stdout",
          "text": [
            "Mounted at /content/drive\n"
          ]
        }
      ],
      "source": [
        "from google.colab import drive\n",
        "drive.mount('/content/drive')\n"
      ]
    },
    {
      "cell_type": "code",
      "source": [
        "data_dir = '/content/drive/MyDrive/Datasets'"
      ],
      "metadata": {
        "id": "10tRW7vDEU0u"
      },
      "execution_count": null,
      "outputs": []
    },
    {
      "cell_type": "code",
      "source": [
        "import torch\n",
        "import torchvision\n",
        "from torchvision import datasets, transforms, models\n",
        "from torch.utils.data import DataLoader\n",
        "import torch.nn as nn\n",
        "import torch.optim as optim\n",
        "import os\n"
      ],
      "metadata": {
        "id": "al_19khnEUxk"
      },
      "execution_count": null,
      "outputs": []
    },
    {
      "cell_type": "code",
      "source": [
        "transform = transforms.Compose([\n",
        "    transforms.Resize((224, 224)),\n",
        "    transforms.ToTensor(),\n",
        "    transforms.Normalize(mean=[0.485, 0.456, 0.406],\n",
        "                         std=[0.229, 0.224, 0.225])\n",
        "])\n",
        "\n",
        "batch_size = 32\n",
        "\n",
        "train_dataset = datasets.ImageFolder(os.path.join(data_dir, 'train'), transform=transform)\n",
        "val_dataset = datasets.ImageFolder(os.path.join(data_dir, 'val'), transform=transform)\n",
        "\n",
        "train_loader = DataLoader(train_dataset, batch_size=batch_size, shuffle=True,num_workers=4)\n",
        "val_loader = DataLoader(val_dataset, batch_size=batch_size, shuffle=False,num_workers=4)\n"
      ],
      "metadata": {
        "id": "vJaNSccWEUub",
        "colab": {
          "base_uri": "https://localhost:8080/"
        },
        "outputId": "74ae8d5a-9fc3-409f-a9d2-85d043321d6f"
      },
      "execution_count": null,
      "outputs": [
        {
          "output_type": "stream",
          "name": "stderr",
          "text": [
            "/usr/local/lib/python3.11/dist-packages/torch/utils/data/dataloader.py:624: UserWarning: This DataLoader will create 4 worker processes in total. Our suggested max number of worker in current system is 2, which is smaller than what this DataLoader is going to create. Please be aware that excessive worker creation might get DataLoader running slow or even freeze, lower the worker number to avoid potential slowness/freeze if necessary.\n",
            "  warnings.warn(\n"
          ]
        }
      ]
    },
    {
      "cell_type": "code",
      "source": [
        "device = torch.device(\"cuda\" if torch.cuda.is_available() else \"cpu\")\n",
        "\n",
        "model = models.resnet50(pretrained=True)\n",
        "num_classes = len(train_dataset.classes)\n",
        "model.fc = nn.Linear(model.fc.in_features, num_classes)\n",
        "model = model.to(device)\n"
      ],
      "metadata": {
        "id": "Wx4TfRt4EUrR",
        "colab": {
          "base_uri": "https://localhost:8080/"
        },
        "outputId": "cd87ff54-4da8-422c-ffed-9003847adc47"
      },
      "execution_count": null,
      "outputs": [
        {
          "output_type": "stream",
          "name": "stderr",
          "text": [
            "/usr/local/lib/python3.11/dist-packages/torchvision/models/_utils.py:208: UserWarning: The parameter 'pretrained' is deprecated since 0.13 and may be removed in the future, please use 'weights' instead.\n",
            "  warnings.warn(\n",
            "/usr/local/lib/python3.11/dist-packages/torchvision/models/_utils.py:223: UserWarning: Arguments other than a weight enum or `None` for 'weights' are deprecated since 0.13 and may be removed in the future. The current behavior is equivalent to passing `weights=ResNet50_Weights.IMAGENET1K_V1`. You can also use `weights=ResNet50_Weights.DEFAULT` to get the most up-to-date weights.\n",
            "  warnings.warn(msg)\n",
            "Downloading: \"https://download.pytorch.org/models/resnet50-0676ba61.pth\" to /root/.cache/torch/hub/checkpoints/resnet50-0676ba61.pth\n",
            "100%|██████████| 97.8M/97.8M [00:00<00:00, 208MB/s]\n"
          ]
        }
      ]
    },
    {
      "cell_type": "code",
      "source": [
        "criterion = nn.CrossEntropyLoss()\n",
        "optimizer = optim.Adam(model.parameters(), lr=0.0001)\n"
      ],
      "metadata": {
        "id": "YLDRBlxdEUn5"
      },
      "execution_count": null,
      "outputs": []
    },
    {
      "cell_type": "code",
      "source": [
        "!cp -r \"/content/drive/MyDrive/Datasets\" \"/content/Datasets\"\n",
        "data_dir = '/content/Datasets'"
      ],
      "metadata": {
        "id": "utVjr4-5-19H"
      },
      "execution_count": null,
      "outputs": []
    },
    {
      "cell_type": "code",
      "source": [
        "num_epochs = 30\n",
        "\n",
        "for epoch in range(num_epochs):\n",
        "    model.train()\n",
        "    running_loss = 0.0\n",
        "\n",
        "    for images, labels in train_loader:\n",
        "        images, labels = images.to(device), labels.to(device)\n",
        "\n",
        "        optimizer.zero_grad()\n",
        "        outputs = model(images)\n",
        "        loss = criterion(outputs, labels)\n",
        "        loss.backward()\n",
        "        optimizer.step()\n",
        "\n",
        "        running_loss += loss.item()\n",
        "\n",
        "    print(f\"Epoch {epoch+1}, Loss: {running_loss/len(train_loader):.4f}\")\n",
        "\n",
        "    checkpoint_path = f\"/content/drive/MyDrive/resnet50_checkpoint_epoch{epoch+1}.pth\"\n",
        "    torch.save({\n",
        "        'epoch': epoch+1,\n",
        "        'model_state_dict': model.state_dict(),\n",
        "        'optimizer_state_dict': optimizer.state_dict(),\n",
        "        'loss': running_loss / len(train_loader),\n",
        "    }, checkpoint_path)\n",
        "\n",
        "    print(f\"Checkpoint saved at epoch {epoch+1}\")\n"
      ],
      "metadata": {
        "colab": {
          "base_uri": "https://localhost:8080/"
        },
        "id": "T5OyY7DEEUjx",
        "outputId": "5f2cce7e-40c0-486c-fe72-a43f7eb972e7"
      },
      "execution_count": null,
      "outputs": [
        {
          "output_type": "stream",
          "name": "stdout",
          "text": [
            "Epoch 1, Loss: 0.2159\n",
            "Checkpoint saved at epoch 1\n",
            "Epoch 2, Loss: 0.0725\n",
            "Checkpoint saved at epoch 2\n",
            "Epoch 3, Loss: 0.0511\n",
            "Checkpoint saved at epoch 3\n",
            "Epoch 4, Loss: 0.0456\n",
            "Checkpoint saved at epoch 4\n",
            "Epoch 5, Loss: 0.0721\n",
            "Checkpoint saved at epoch 5\n",
            "Epoch 6, Loss: 0.0528\n",
            "Checkpoint saved at epoch 6\n",
            "Epoch 7, Loss: 0.0150\n",
            "Checkpoint saved at epoch 7\n",
            "Epoch 8, Loss: 0.0037\n",
            "Checkpoint saved at epoch 8\n",
            "Epoch 9, Loss: 0.0020\n",
            "Checkpoint saved at epoch 9\n",
            "Epoch 10, Loss: 0.0035\n",
            "Checkpoint saved at epoch 10\n",
            "Epoch 11, Loss: 0.0215\n",
            "Checkpoint saved at epoch 11\n",
            "Epoch 12, Loss: 0.0154\n",
            "Checkpoint saved at epoch 12\n",
            "Epoch 13, Loss: 0.0414\n",
            "Checkpoint saved at epoch 13\n",
            "Epoch 14, Loss: 0.0611\n",
            "Checkpoint saved at epoch 14\n",
            "Epoch 15, Loss: 0.0186\n",
            "Checkpoint saved at epoch 15\n",
            "Epoch 16, Loss: 0.0366\n",
            "Checkpoint saved at epoch 16\n",
            "Epoch 17, Loss: 0.0231\n",
            "Checkpoint saved at epoch 17\n",
            "Epoch 18, Loss: 0.0403\n",
            "Checkpoint saved at epoch 18\n",
            "Epoch 19, Loss: 0.0551\n",
            "Checkpoint saved at epoch 19\n",
            "Epoch 20, Loss: 0.0403\n",
            "Checkpoint saved at epoch 20\n",
            "Epoch 21, Loss: 0.0066\n",
            "Checkpoint saved at epoch 21\n",
            "Epoch 22, Loss: 0.0090\n",
            "Checkpoint saved at epoch 22\n",
            "Epoch 23, Loss: 0.0133\n",
            "Checkpoint saved at epoch 23\n",
            "Epoch 24, Loss: 0.0105\n",
            "Checkpoint saved at epoch 24\n",
            "Epoch 25, Loss: 0.0083\n",
            "Checkpoint saved at epoch 25\n",
            "Epoch 26, Loss: 0.0057\n",
            "Checkpoint saved at epoch 26\n",
            "Epoch 27, Loss: 0.0017\n",
            "Checkpoint saved at epoch 27\n",
            "Epoch 28, Loss: 0.0040\n",
            "Checkpoint saved at epoch 28\n",
            "Epoch 29, Loss: 0.0108\n",
            "Checkpoint saved at epoch 29\n",
            "Epoch 30, Loss: 0.0128\n",
            "Checkpoint saved at epoch 30\n"
          ]
        }
      ]
    },
    {
      "cell_type": "code",
      "source": [
        "model_path = '/content/drive/MyDrive/resnet50_model.pth'\n",
        "torch.save(model.state_dict(), model_path)\n"
      ],
      "metadata": {
        "id": "7TJPKUtnOUFP"
      },
      "execution_count": null,
      "outputs": []
    },
    {
      "cell_type": "code",
      "source": [
        "model.eval()\n",
        "correct = 0\n",
        "total = 0\n",
        "\n",
        "with torch.no_grad():\n",
        "    for images, labels in val_loader:\n",
        "        images, labels = images.to(device), labels.to(device)\n",
        "        outputs = model(images)\n",
        "        _, predicted = torch.max(outputs, 1)\n",
        "        total += labels.size(0)\n",
        "        correct += (predicted == labels).sum().item()\n",
        "\n",
        "accuracy = 100 * correct / total\n",
        "print(f'Validation Accuracy: {accuracy:.2f}%')\n"
      ],
      "metadata": {
        "colab": {
          "base_uri": "https://localhost:8080/"
        },
        "id": "iNTjU2JFOUI3",
        "outputId": "306be5c1-36ce-4d0d-c082-b0625b72cfd5"
      },
      "execution_count": null,
      "outputs": [
        {
          "output_type": "stream",
          "name": "stdout",
          "text": [
            "Validation Accuracy: 94.34%\n"
          ]
        }
      ]
    },
    {
      "cell_type": "code",
      "source": [
        "from google.colab import drive\n",
        "drive.mount('/content/drive')"
      ],
      "metadata": {
        "colab": {
          "base_uri": "https://localhost:8080/"
        },
        "id": "yRIkGB0bjyjw",
        "outputId": "954bce5d-5cc2-4c90-e72e-fdc79f4d02b7"
      },
      "execution_count": null,
      "outputs": [
        {
          "output_type": "stream",
          "name": "stdout",
          "text": [
            "Mounted at /content/drive\n"
          ]
        }
      ]
    },
    {
      "cell_type": "code",
      "source": [
        "import os\n",
        "import re\n",
        "import torch\n",
        "import torchvision.models as models\n",
        "import torchvision.transforms as transforms\n",
        "import torchvision.datasets as datasets\n",
        "from torch.utils.data import DataLoader\n",
        "\n",
        "# CONFIG\n",
        "checkpoint_dir = \"/content/drive/MyDrive\"  # folder containing checkpoints\n",
        "val_data_path = \"/content/Datasets/val\"  # your validation set\n",
        "device = torch.device('cuda' if torch.cuda.is_available() else 'cpu')\n",
        "batch_size = 32\n",
        "\n",
        "# Prepare validation data\n",
        "val_transforms = transforms.Compose([\n",
        "    transforms.Resize((224, 224)),\n",
        "    transforms.ToTensor(),\n",
        "    transforms.Normalize(mean=[0.485, 0.456, 0.406],\n",
        "                         std=[0.229, 0.224, 0.225])\n",
        "])\n",
        "\n",
        "val_dataset = datasets.ImageFolder(val_data_path, transform=val_transforms)\n",
        "val_loader = DataLoader(val_dataset, batch_size=batch_size, shuffle=False)\n",
        "num_classes = len(val_dataset.classes)\n",
        "\n",
        "# Find all checkpoint files\n",
        "checkpoint_files = []\n",
        "for file in os.listdir(checkpoint_dir):\n",
        "    if file.endswith(\".pth\") and \"checkpoint\" in file:\n",
        "        match = re.search(r'epoch(\\d+)', file)\n",
        "        epoch = int(match.group(1)) if match else -1\n",
        "        checkpoint_files.append((file, epoch))\n",
        "\n",
        "checkpoint_files.sort(key=lambda x: x[1])\n",
        "\n",
        "# Evaluate each checkpoint\n",
        "def evaluate_model(checkpoint_path):\n",
        "    model = models.resnet50(pretrained=False)\n",
        "    model.fc = torch.nn.Linear(model.fc.in_features, num_classes)\n",
        "    checkpoint = torch.load(os.path.join(checkpoint_dir, checkpoint_path), map_location=device)\n",
        "    model.load_state_dict(checkpoint['model_state_dict'])\n",
        "    model.to(device)\n",
        "    model.eval()\n",
        "\n",
        "    correct, total = 0, 0\n",
        "    with torch.no_grad():\n",
        "        for images, labels in val_loader:\n",
        "            images, labels = images.to(device), labels.to(device)\n",
        "            outputs = model(images)\n",
        "            _, preds = torch.max(outputs, 1)\n",
        "            correct += (preds == labels).sum().item()\n",
        "            total += labels.size(0)\n",
        "\n",
        "    accuracy = 100 * correct / total\n",
        "    return accuracy\n",
        "\n",
        "print(\" Evaluating Checkpoints:\\n\")\n",
        "results = []\n",
        "for file, epoch in checkpoint_files:\n",
        "    try:\n",
        "        acc = evaluate_model(file)\n",
        "        results.append((file, acc))\n",
        "        print(f\"{file} → {acc:.2f}%\")\n",
        "    except Exception as e:\n",
        "        print(f\"Error evaluating {file}: {e}\")\n",
        "\n",
        "# Show best checkpoint\n",
        "if results:\n",
        "    best_file, best_acc = max(results, key=lambda x: x[1])\n",
        "    print(f\"\\nBest checkpoint: {best_file} with accuracy {best_acc:.2f}%\")\n",
        "else:\n",
        "    print(\"\\n No valid checkpoints evaluated.\")\n"
      ],
      "metadata": {
        "colab": {
          "base_uri": "https://localhost:8080/"
        },
        "id": "wLEv86wgE523",
        "outputId": "5a522b4c-47ba-44b1-cf29-52ff9ba22601"
      },
      "execution_count": null,
      "outputs": [
        {
          "output_type": "stream",
          "name": "stdout",
          "text": [
            "🔎 Evaluating Checkpoints:\n",
            "\n"
          ]
        },
        {
          "output_type": "stream",
          "name": "stderr",
          "text": [
            "/usr/local/lib/python3.11/dist-packages/torchvision/models/_utils.py:223: UserWarning: Arguments other than a weight enum or `None` for 'weights' are deprecated since 0.13 and may be removed in the future. The current behavior is equivalent to passing `weights=None`.\n",
            "  warnings.warn(msg)\n"
          ]
        },
        {
          "output_type": "stream",
          "name": "stdout",
          "text": [
            "✅ resnet50_checkpoint_epoch1.pth → 94.76%\n",
            "✅ resnet50_checkpoint_epoch2.pth → 94.87%\n",
            "✅ resnet50_checkpoint_epoch3.pth → 93.80%\n",
            "✅ resnet50_checkpoint_epoch4.pth → 93.80%\n",
            "✅ resnet50_checkpoint_epoch5.pth → 92.31%\n",
            "✅ resnet50_checkpoint_epoch6.pth → 93.27%\n",
            "✅ resnet50_checkpoint_epoch7.pth → 94.34%\n",
            "✅ resnet50_checkpoint_epoch8.pth → 94.44%\n",
            "✅ resnet50_checkpoint_epoch9.pth → 95.30%\n",
            "✅ resnet50_checkpoint_epoch10.pth → 94.55%\n",
            "✅ resnet50_checkpoint_epoch11.pth → 94.87%\n",
            "✅ resnet50_checkpoint_epoch12.pth → 92.63%\n",
            "✅ resnet50_checkpoint_epoch13.pth → 93.91%\n",
            "✅ resnet50_checkpoint_epoch14.pth → 94.02%\n",
            "✅ resnet50_checkpoint_epoch15.pth → 94.12%\n",
            "✅ resnet50_checkpoint_epoch16.pth → 94.87%\n",
            "✅ resnet50_checkpoint_epoch17.pth → 94.76%\n",
            "✅ resnet50_checkpoint_epoch18.pth → 95.19%\n",
            "✅ resnet50_checkpoint_epoch19.pth → 94.23%\n",
            "✅ resnet50_checkpoint_epoch20.pth → 94.02%\n",
            "✅ resnet50_checkpoint_epoch21.pth → 93.59%\n",
            "✅ resnet50_checkpoint_epoch22.pth → 93.91%\n",
            "✅ resnet50_checkpoint_epoch23.pth → 94.98%\n",
            "✅ resnet50_checkpoint_epoch24.pth → 92.95%\n",
            "✅ resnet50_checkpoint_epoch25.pth → 94.87%\n",
            "✅ resnet50_checkpoint_epoch26.pth → 94.34%\n",
            "✅ resnet50_checkpoint_epoch27.pth → 94.98%\n",
            "✅ resnet50_checkpoint_epoch28.pth → 94.87%\n",
            "✅ resnet50_checkpoint_epoch29.pth → 93.80%\n",
            "✅ resnet50_checkpoint_epoch30.pth → 94.34%\n",
            "\n",
            "🏆 Best checkpoint: resnet50_checkpoint_epoch9.pth with accuracy 95.30%\n"
          ]
        }
      ]
    },
    {
      "cell_type": "code",
      "source": [
        "import torch\n",
        "import torchvision.models as models\n",
        "import torchvision.transforms as transforms\n",
        "import torchvision.datasets as datasets\n",
        "from torch.utils.data import DataLoader\n",
        "from sklearn.metrics import accuracy_score, precision_score, recall_score, f1_score, classification_report, confusion_matrix\n",
        "import matplotlib.pyplot as plt\n",
        "import seaborn as sns\n",
        "import numpy as np\n",
        "\n",
        "#Paths\n",
        "checkpoint_path = '/content/drive/MyDrive/resnet50_checkpoint_epoch9.pth'\n",
        "val_data_path = '/content/Datasets/val'\n",
        "\n",
        "device = torch.device('cuda' if torch.cuda.is_available() else 'cpu')\n",
        "\n",
        "val_transforms = transforms.Compose([\n",
        "    transforms.Resize((224, 224)),\n",
        "    transforms.ToTensor(),\n",
        "    transforms.Normalize(mean=[0.485, 0.456, 0.406],\n",
        "                         std=[0.229, 0.224, 0.225])\n",
        "])\n",
        "\n",
        "val_dataset = datasets.ImageFolder(val_data_path, transform=val_transforms)\n",
        "val_loader = DataLoader(val_dataset, batch_size=32, shuffle=False)\n",
        "\n",
        "model = models.resnet50(pretrained=False)\n",
        "model.fc = torch.nn.Linear(model.fc.in_features, len(val_dataset.classes))\n",
        "checkpoint = torch.load(checkpoint_path, map_location=device)\n",
        "model.load_state_dict(checkpoint['model_state_dict'])\n",
        "model.to(device)\n",
        "model.eval()\n",
        "\n",
        "#Evaluation\n",
        "y_true = []\n",
        "y_pred = []\n",
        "\n",
        "with torch.no_grad():\n",
        "    for inputs, labels in val_loader:\n",
        "        inputs, labels = inputs.to(device), labels.to(device)\n",
        "        outputs = model(inputs)\n",
        "        _, preds = torch.max(outputs, 1)\n",
        "        y_true.extend(labels.cpu().numpy())\n",
        "        y_pred.extend(preds.cpu().numpy())\n",
        "\n",
        "accuracy = accuracy_score(y_true, y_pred)\n",
        "precision = precision_score(y_true, y_pred, average='weighted', zero_division=0)\n",
        "recall = recall_score(y_true, y_pred, average='weighted', zero_division=0)\n",
        "f1 = f1_score(y_true, y_pred, average='weighted', zero_division=0)\n",
        "\n",
        "print(\"Final Performance Metrics:\")\n",
        "print(f\"Accuracy  : {accuracy:.4f}\")\n",
        "print(f\"Precision : {precision:.4f}\")\n",
        "print(f\"Recall    : {recall:.4f}\")\n",
        "print(f\"F1 Score  : {f1:.4f}\")\n",
        "\n",
        "print(\"\\n📋 Classification Report for Resnet50:\")\n",
        "print(classification_report(y_true, y_pred, target_names=val_dataset.classes, zero_division=0))\n",
        "\n",
        "#Confusion Matrix\n",
        "cm = confusion_matrix(y_true, y_pred)\n",
        "plt.figure(figsize=(10, 8))\n",
        "sns.heatmap(cm, annot=True, fmt='d', xticklabels=val_dataset.classes, yticklabels=val_dataset.classes, cmap='Blues')\n",
        "plt.xlabel('Predicted')\n",
        "plt.ylabel('True')\n",
        "plt.title('Confusion Matrix for Resnet50')\n",
        "plt.show()\n"
      ],
      "metadata": {
        "colab": {
          "base_uri": "https://localhost:8080/",
          "height": 1000
        },
        "id": "dAqLVx8lE6-k",
        "outputId": "04818cc7-3d4c-47cd-ed9c-68690e3a83ec"
      },
      "execution_count": null,
      "outputs": [
        {
          "output_type": "stream",
          "name": "stderr",
          "text": [
            "/usr/local/lib/python3.11/dist-packages/torchvision/models/_utils.py:208: UserWarning: The parameter 'pretrained' is deprecated since 0.13 and may be removed in the future, please use 'weights' instead.\n",
            "  warnings.warn(\n",
            "/usr/local/lib/python3.11/dist-packages/torchvision/models/_utils.py:223: UserWarning: Arguments other than a weight enum or `None` for 'weights' are deprecated since 0.13 and may be removed in the future. The current behavior is equivalent to passing `weights=None`.\n",
            "  warnings.warn(msg)\n"
          ]
        },
        {
          "output_type": "stream",
          "name": "stdout",
          "text": [
            "Final Performance Metrics:\n",
            "Accuracy  : 0.9530\n",
            "Precision : 0.9530\n",
            "Recall    : 0.9530\n",
            "F1 Score  : 0.9528\n",
            "\n",
            "📋 Classification Report for Resnet50:\n",
            "              precision    recall  f1-score   support\n",
            "\n",
            "     cheetah       0.96      0.92      0.94       304\n",
            "     leopard       0.92      0.94      0.93       280\n",
            "       tiger       0.98      1.00      0.99       352\n",
            "\n",
            "    accuracy                           0.95       936\n",
            "   macro avg       0.95      0.95      0.95       936\n",
            "weighted avg       0.95      0.95      0.95       936\n",
            "\n"
          ]
        },
        {
          "output_type": "display_data",
          "data": {
            "text/plain": [
              "<Figure size 1000x800 with 2 Axes>"
            ],
            "image/png": "[encoded data removed]"
          },
          "metadata": {}
        }
      ]
    },
    {
      "cell_type": "code",
      "source": [],
      "metadata": {
        "id": "RoPhemPnE67G"
      },
      "execution_count": null,
      "outputs": []
    },
    {
      "cell_type": "code",
      "source": [],
      "metadata": {
        "id": "MY5SWCoZE63x"
      },
      "execution_count": null,
      "outputs": []
    },
    {
      "cell_type": "code",
      "source": [],
      "metadata": {
        "id": "fPFWOQvuE60p"
      },
      "execution_count": null,
      "outputs": []
    },
    {
      "cell_type": "code",
      "source": [],
      "metadata": {
        "id": "MRKxLrREE6x4"
      },
      "execution_count": null,
      "outputs": []
    }
  ]
}